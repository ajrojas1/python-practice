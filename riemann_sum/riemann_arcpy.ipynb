{
 "cells": [
  {
   "cell_type": "code",
   "execution_count": null,
   "metadata": {},
   "outputs": [],
   "source": [
    "# name: arojas\n",
    "# date: 3/20/2020\n",
    "# file: riemann_arcpy\n",
    "# tests riemann sum on sample raster using arcpy functionality"
   ]
  },
  {
   "cell_type": "markdown",
   "metadata": {},
   "source": [
    "We can use the example to generate a random raster from the ArcGIS Pro [website](https://pro.arcgis.com/en/pro-app/tool-reference/data-management/create-random-raster.htm). First I want to create a test raster and some random points on which I'll create buffers. These buffers will be the areas on which I'll perform the Riemann sum. \n",
    "\n",
    "I don't have direct access to ArcGIS because of the COVID-19 situation on campus, so I am trying my best to do this through UNC's Virtual Lab. Once I can get access to IDLE + the ArcGIS dependencies, I can make this code look a lot cleaner, e.g. organizing the `arcpy.env.workspace` so I stop repeating things unnecessarily. For now, this code is functional and serves this temporary purpose. "
   ]
  },
  {
   "cell_type": "code",
   "execution_count": null,
   "metadata": {},
   "outputs": [],
   "source": [
    "# name: arojas\n",
    "# date: 3/20/2020\n",
    "# file: riemann_arcpy\n",
    "# tests riemann sum on sample raster using arcpy functionality\n",
    "\n",
    "import arcpy\n",
    " \n",
    "# define variables\n",
    "arcpy.env.workspace = \"T:\\\\Students\\\\alfredoj\\\\final_project\\\\output\"\n",
    "arcpy.env.overwriteOutput = True # overwrite output\n",
    "\n",
    "# out_path = \"output\"\n",
    "outFile = \"test.tif\"\n",
    "distribution = \"POISSON 6.4\"\n",
    "outExtent = \"250 250 750 750\"\n",
    "cellSize = 10\n",
    " \n",
    "# Execute CreateRandomRaster\n",
    "arcpy.CreateRandomRaster_management(arcpy.env.workspace, outFile, distribution, outExtent, cellSize)\n",
    "\n",
    "# Create random points in the features of a constraining feature class\n",
    "points = \"random_points.shp\"\n",
    "con_extent = \"test.tif\" # may not need the absolute path\n",
    "arcpy.CreateRandomPoints_management(arcpy.env.workspace, points, \"\", con_extent, 10)\n",
    "\n",
    "# input/output data\n",
    "input_ras = \"test.tif\"\n",
    "input_pts = \"random_points.shp\"\n",
    "output_ras = \"test_Proj2.tif\"\n",
    "output_pts = \"pts_Proj2.shp\"\n",
    "\n",
    "# create a spatial reference object for the output coordinate system\n",
    "out_CRS = \"PROJCS['NAD_1983_UTM_Zone_1N',GEOGCS['GCS_North_American_1983',DATUM['D_North_American_1983',SPHEROID['GRS_1980',6378137.0,298.257222101]],PRIMEM['Greenwich',0.0],UNIT['Degree',0.0174532925199433]],PROJECTION['Transverse_Mercator'],PARAMETER['False_Easting',500000.0],PARAMETER['False_Northing',0.0],PARAMETER['Central_Meridian',-177.0],PARAMETER['Scale_Factor',0.9996],PARAMETER['Latitude_Of_Origin',0.0],UNIT['Meter',1.0]]\"\n",
    "\n",
    "# run the projection tools\n",
    "arcpy.ProjectRaster_management(input_ras, output_ras, out_CRS, \"NEAREST\", \"\", \"\", \"\", out_CRS)\n",
    "arcpy.Project_management(input_pts, output_pts, out_CRS, \"\", out_CRS, \"NO_PRESERVE_SHAPE\", \"\", \"NO_VERTICAL\")\n",
    "\n",
    "# Crate buffer around points\n",
    "out_buff = \"pt_buffer.shp\"\n",
    "arcpy.Buffer_analysis(points, out_buff, \"20 Meters\", \"FULL\", \"ROUND\", \"NONE\")\n",
    "\n",
    "fields = [\"FID\"]\n",
    "cursor = arcpy.da.SearchCursor(out_buff, fields)\n",
    "for item in cursor:\n",
    "    print(item[0])\n",
    "\n",
    "# get raster cell size, make sure to square\n",
    "x = arcpy.GetRasterProperties_management(\"test.tif\", \"CELLSIZEX\")\n",
    "int(x[0])\n",
    "\n",
    "# Import system modules\n",
    "import arcpy\n",
    "from arcpy.sa import *\n",
    "\n",
    "# Check out the ArcGIS Spatial Analyst extension license\n",
    "arcpy.CheckOutExtension(\"Spatial\")\n",
    "\n",
    "out_zonal = arcpy.ZonalStatistics(\"pt_buffer.shp\", \"Shape\", \"test.tif\", \"SUM\")\n",
    "\n",
    "# some kind of cursor to modify buffer attribute table\n",
    "# cursor to read attribute table\n",
    "\n",
    "# For every buffer\n",
    "    # extract raster by mask\n",
    "    # zonal stats add all values, multiply by resolution\n",
    "    # add value to buffer attribute table. . . \n",
    "\n",
    "# Replace a layer/table view name with a path to a dataset (which can be a layer file) or create the layer/table view within the script\n",
    "# The following inputs are layers or table views: \"test.tif\"\n"
   ]
  }
 ],
 "metadata": {
  "kernelspec": {
   "display_name": "Python 3",
   "language": "python",
   "name": "python3"
  },
  "language_info": {
   "codemirror_mode": {
    "name": "ipython",
    "version": 3
   },
   "file_extension": ".py",
   "mimetype": "text/x-python",
   "name": "python",
   "nbconvert_exporter": "python",
   "pygments_lexer": "ipython3",
   "version": "3.7.4"
  }
 },
 "nbformat": 4,
 "nbformat_minor": 4
}
